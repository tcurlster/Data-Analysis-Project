{
  "nbformat": 4,
  "nbformat_minor": 0,
  "metadata": {
    "colab": {
      "name": "Copy of News Classification with Roberta.ipynb",
      "provenance": [],
      "collapsed_sections": []
    },
    "kernelspec": {
      "name": "python3",
      "display_name": "Python 3"
    },
    "language_info": {
      "name": "python"
    },
    "accelerator": "TPU",
    "widgets": {
      "application/vnd.jupyter.widget-state+json": {
        "8a3b98bdcb9c496dae4ef41586e69a14": {
          "model_module": "@jupyter-widgets/controls",
          "model_name": "HBoxModel",
          "model_module_version": "1.5.0",
          "state": {
            "_dom_classes": [],
            "_model_module": "@jupyter-widgets/controls",
            "_model_module_version": "1.5.0",
            "_model_name": "HBoxModel",
            "_view_count": null,
            "_view_module": "@jupyter-widgets/controls",
            "_view_module_version": "1.5.0",
            "_view_name": "HBoxView",
            "box_style": "",
            "children": [
              "IPY_MODEL_879a875f8d1442429bc3f99e7c965e46",
              "IPY_MODEL_27c00bb4f696495f83a6d297279447f7",
              "IPY_MODEL_9f95b76c73f14486b5018befe7f42592"
            ],
            "layout": "IPY_MODEL_40bf7ab8697b4d3eba4ac8fdf4fb8214"
          }
        },
        "879a875f8d1442429bc3f99e7c965e46": {
          "model_module": "@jupyter-widgets/controls",
          "model_name": "HTMLModel",
          "model_module_version": "1.5.0",
          "state": {
            "_dom_classes": [],
            "_model_module": "@jupyter-widgets/controls",
            "_model_module_version": "1.5.0",
            "_model_name": "HTMLModel",
            "_view_count": null,
            "_view_module": "@jupyter-widgets/controls",
            "_view_module_version": "1.5.0",
            "_view_name": "HTMLView",
            "description": "",
            "description_tooltip": null,
            "layout": "IPY_MODEL_2dbd1e6a937e4e01becfebb5e2dee2e6",
            "placeholder": "​",
            "style": "IPY_MODEL_c71407eb7dfe4442b25e480d6eba0b66",
            "value": "Downloading: 100%"
          }
        },
        "27c00bb4f696495f83a6d297279447f7": {
          "model_module": "@jupyter-widgets/controls",
          "model_name": "FloatProgressModel",
          "model_module_version": "1.5.0",
          "state": {
            "_dom_classes": [],
            "_model_module": "@jupyter-widgets/controls",
            "_model_module_version": "1.5.0",
            "_model_name": "FloatProgressModel",
            "_view_count": null,
            "_view_module": "@jupyter-widgets/controls",
            "_view_module_version": "1.5.0",
            "_view_name": "ProgressView",
            "bar_style": "success",
            "description": "",
            "description_tooltip": null,
            "layout": "IPY_MODEL_3a812ce42f0b41768f1da74154b7d74f",
            "max": 657434796,
            "min": 0,
            "orientation": "horizontal",
            "style": "IPY_MODEL_b553b6bcbe394d9baf511d617db0ea63",
            "value": 657434796
          }
        },
        "9f95b76c73f14486b5018befe7f42592": {
          "model_module": "@jupyter-widgets/controls",
          "model_name": "HTMLModel",
          "model_module_version": "1.5.0",
          "state": {
            "_dom_classes": [],
            "_model_module": "@jupyter-widgets/controls",
            "_model_module_version": "1.5.0",
            "_model_name": "HTMLModel",
            "_view_count": null,
            "_view_module": "@jupyter-widgets/controls",
            "_view_module_version": "1.5.0",
            "_view_name": "HTMLView",
            "description": "",
            "description_tooltip": null,
            "layout": "IPY_MODEL_0e168220c58c4359b3d58846776d21af",
            "placeholder": "​",
            "style": "IPY_MODEL_ee0c20148b3d42bdb8d714365fda4fa4",
            "value": " 627M/627M [00:13&lt;00:00, 48.0MB/s]"
          }
        },
        "40bf7ab8697b4d3eba4ac8fdf4fb8214": {
          "model_module": "@jupyter-widgets/base",
          "model_name": "LayoutModel",
          "model_module_version": "1.2.0",
          "state": {
            "_model_module": "@jupyter-widgets/base",
            "_model_module_version": "1.2.0",
            "_model_name": "LayoutModel",
            "_view_count": null,
            "_view_module": "@jupyter-widgets/base",
            "_view_module_version": "1.2.0",
            "_view_name": "LayoutView",
            "align_content": null,
            "align_items": null,
            "align_self": null,
            "border": null,
            "bottom": null,
            "display": null,
            "flex": null,
            "flex_flow": null,
            "grid_area": null,
            "grid_auto_columns": null,
            "grid_auto_flow": null,
            "grid_auto_rows": null,
            "grid_column": null,
            "grid_gap": null,
            "grid_row": null,
            "grid_template_areas": null,
            "grid_template_columns": null,
            "grid_template_rows": null,
            "height": null,
            "justify_content": null,
            "justify_items": null,
            "left": null,
            "margin": null,
            "max_height": null,
            "max_width": null,
            "min_height": null,
            "min_width": null,
            "object_fit": null,
            "object_position": null,
            "order": null,
            "overflow": null,
            "overflow_x": null,
            "overflow_y": null,
            "padding": null,
            "right": null,
            "top": null,
            "visibility": null,
            "width": null
          }
        },
        "2dbd1e6a937e4e01becfebb5e2dee2e6": {
          "model_module": "@jupyter-widgets/base",
          "model_name": "LayoutModel",
          "model_module_version": "1.2.0",
          "state": {
            "_model_module": "@jupyter-widgets/base",
            "_model_module_version": "1.2.0",
            "_model_name": "LayoutModel",
            "_view_count": null,
            "_view_module": "@jupyter-widgets/base",
            "_view_module_version": "1.2.0",
            "_view_name": "LayoutView",
            "align_content": null,
            "align_items": null,
            "align_self": null,
            "border": null,
            "bottom": null,
            "display": null,
            "flex": null,
            "flex_flow": null,
            "grid_area": null,
            "grid_auto_columns": null,
            "grid_auto_flow": null,
            "grid_auto_rows": null,
            "grid_column": null,
            "grid_gap": null,
            "grid_row": null,
            "grid_template_areas": null,
            "grid_template_columns": null,
            "grid_template_rows": null,
            "height": null,
            "justify_content": null,
            "justify_items": null,
            "left": null,
            "margin": null,
            "max_height": null,
            "max_width": null,
            "min_height": null,
            "min_width": null,
            "object_fit": null,
            "object_position": null,
            "order": null,
            "overflow": null,
            "overflow_x": null,
            "overflow_y": null,
            "padding": null,
            "right": null,
            "top": null,
            "visibility": null,
            "width": null
          }
        },
        "c71407eb7dfe4442b25e480d6eba0b66": {
          "model_module": "@jupyter-widgets/controls",
          "model_name": "DescriptionStyleModel",
          "model_module_version": "1.5.0",
          "state": {
            "_model_module": "@jupyter-widgets/controls",
            "_model_module_version": "1.5.0",
            "_model_name": "DescriptionStyleModel",
            "_view_count": null,
            "_view_module": "@jupyter-widgets/base",
            "_view_module_version": "1.2.0",
            "_view_name": "StyleView",
            "description_width": ""
          }
        },
        "3a812ce42f0b41768f1da74154b7d74f": {
          "model_module": "@jupyter-widgets/base",
          "model_name": "LayoutModel",
          "model_module_version": "1.2.0",
          "state": {
            "_model_module": "@jupyter-widgets/base",
            "_model_module_version": "1.2.0",
            "_model_name": "LayoutModel",
            "_view_count": null,
            "_view_module": "@jupyter-widgets/base",
            "_view_module_version": "1.2.0",
            "_view_name": "LayoutView",
            "align_content": null,
            "align_items": null,
            "align_self": null,
            "border": null,
            "bottom": null,
            "display": null,
            "flex": null,
            "flex_flow": null,
            "grid_area": null,
            "grid_auto_columns": null,
            "grid_auto_flow": null,
            "grid_auto_rows": null,
            "grid_column": null,
            "grid_gap": null,
            "grid_row": null,
            "grid_template_areas": null,
            "grid_template_columns": null,
            "grid_template_rows": null,
            "height": null,
            "justify_content": null,
            "justify_items": null,
            "left": null,
            "margin": null,
            "max_height": null,
            "max_width": null,
            "min_height": null,
            "min_width": null,
            "object_fit": null,
            "object_position": null,
            "order": null,
            "overflow": null,
            "overflow_x": null,
            "overflow_y": null,
            "padding": null,
            "right": null,
            "top": null,
            "visibility": null,
            "width": null
          }
        },
        "b553b6bcbe394d9baf511d617db0ea63": {
          "model_module": "@jupyter-widgets/controls",
          "model_name": "ProgressStyleModel",
          "model_module_version": "1.5.0",
          "state": {
            "_model_module": "@jupyter-widgets/controls",
            "_model_module_version": "1.5.0",
            "_model_name": "ProgressStyleModel",
            "_view_count": null,
            "_view_module": "@jupyter-widgets/base",
            "_view_module_version": "1.2.0",
            "_view_name": "StyleView",
            "bar_color": null,
            "description_width": ""
          }
        },
        "0e168220c58c4359b3d58846776d21af": {
          "model_module": "@jupyter-widgets/base",
          "model_name": "LayoutModel",
          "model_module_version": "1.2.0",
          "state": {
            "_model_module": "@jupyter-widgets/base",
            "_model_module_version": "1.2.0",
            "_model_name": "LayoutModel",
            "_view_count": null,
            "_view_module": "@jupyter-widgets/base",
            "_view_module_version": "1.2.0",
            "_view_name": "LayoutView",
            "align_content": null,
            "align_items": null,
            "align_self": null,
            "border": null,
            "bottom": null,
            "display": null,
            "flex": null,
            "flex_flow": null,
            "grid_area": null,
            "grid_auto_columns": null,
            "grid_auto_flow": null,
            "grid_auto_rows": null,
            "grid_column": null,
            "grid_gap": null,
            "grid_row": null,
            "grid_template_areas": null,
            "grid_template_columns": null,
            "grid_template_rows": null,
            "height": null,
            "justify_content": null,
            "justify_items": null,
            "left": null,
            "margin": null,
            "max_height": null,
            "max_width": null,
            "min_height": null,
            "min_width": null,
            "object_fit": null,
            "object_position": null,
            "order": null,
            "overflow": null,
            "overflow_x": null,
            "overflow_y": null,
            "padding": null,
            "right": null,
            "top": null,
            "visibility": null,
            "width": null
          }
        },
        "ee0c20148b3d42bdb8d714365fda4fa4": {
          "model_module": "@jupyter-widgets/controls",
          "model_name": "DescriptionStyleModel",
          "model_module_version": "1.5.0",
          "state": {
            "_model_module": "@jupyter-widgets/controls",
            "_model_module_version": "1.5.0",
            "_model_name": "DescriptionStyleModel",
            "_view_count": null,
            "_view_module": "@jupyter-widgets/base",
            "_view_module_version": "1.2.0",
            "_view_name": "StyleView",
            "description_width": ""
          }
        }
      }
    }
  },
  "cells": [
    {
      "cell_type": "code",
      "source": [
        "!mkdir ~/.aws && cp credentials ~/.aws/credentials"
      ],
      "metadata": {
        "id": "qPPjeI6GTA0R"
      },
      "execution_count": null,
      "outputs": []
    },
    {
      "cell_type": "code",
      "source": [
        "!pip install pickle-mixin"
      ],
      "metadata": {
        "colab": {
          "base_uri": "https://localhost:8080/"
        },
        "id": "UwQWIVtOrKkW",
        "outputId": "77e3937d-a7ff-4412-8ecc-c6cc0e7c0f92"
      },
      "execution_count": 2,
      "outputs": [
        {
          "output_type": "stream",
          "name": "stdout",
          "text": [
            "Collecting pickle-mixin\n",
            "  Downloading pickle-mixin-1.0.2.tar.gz (5.1 kB)\n",
            "Building wheels for collected packages: pickle-mixin\n",
            "  Building wheel for pickle-mixin (setup.py) ... \u001b[?25l\u001b[?25hdone\n",
            "  Created wheel for pickle-mixin: filename=pickle_mixin-1.0.2-py3-none-any.whl size=6008 sha256=f990708a8cf164af75cf9716987acf1efead001caaaa41c100ba77f39091b157\n",
            "  Stored in directory: /root/.cache/pip/wheels/d0/70/0b/673e09a7ed429660d22352a1b117b4f616a8fc054bdd7eb157\n",
            "Successfully built pickle-mixin\n",
            "Installing collected packages: pickle-mixin\n",
            "Successfully installed pickle-mixin-1.0.2\n"
          ]
        }
      ]
    },
    {
      "cell_type": "code",
      "source": [
        "!pip3 install s3fs"
      ],
      "metadata": {
        "colab": {
          "base_uri": "https://localhost:8080/"
        },
        "id": "4glCWSRHblOm",
        "outputId": "22cc5b12-6830-48ca-e624-f16867dfdbc3"
      },
      "execution_count": 3,
      "outputs": [
        {
          "output_type": "stream",
          "name": "stdout",
          "text": [
            "Collecting s3fs\n",
            "  Downloading s3fs-2022.3.0-py3-none-any.whl (26 kB)\n",
            "Collecting fsspec==2022.3.0\n",
            "  Downloading fsspec-2022.3.0-py3-none-any.whl (136 kB)\n",
            "\u001b[K     |████████████████████████████████| 136 kB 11.0 MB/s \n",
            "\u001b[?25hCollecting aiohttp<=4\n",
            "  Downloading aiohttp-3.8.1-cp37-cp37m-manylinux_2_5_x86_64.manylinux1_x86_64.manylinux_2_12_x86_64.manylinux2010_x86_64.whl (1.1 MB)\n",
            "\u001b[K     |████████████████████████████████| 1.1 MB 43.4 MB/s \n",
            "\u001b[?25hCollecting aiobotocore~=2.2.0\n",
            "  Downloading aiobotocore-2.2.0.tar.gz (59 kB)\n",
            "\u001b[K     |████████████████████████████████| 59 kB 5.8 MB/s \n",
            "\u001b[?25hCollecting botocore<1.24.22,>=1.24.21\n",
            "  Downloading botocore-1.24.21-py3-none-any.whl (8.6 MB)\n",
            "\u001b[K     |████████████████████████████████| 8.6 MB 49.4 MB/s \n",
            "\u001b[?25hRequirement already satisfied: wrapt>=1.10.10 in /usr/local/lib/python3.7/dist-packages (from aiobotocore~=2.2.0->s3fs) (1.14.0)\n",
            "Collecting aioitertools>=0.5.1\n",
            "  Downloading aioitertools-0.10.0-py3-none-any.whl (23 kB)\n",
            "Requirement already satisfied: charset-normalizer<3.0,>=2.0 in /usr/local/lib/python3.7/dist-packages (from aiohttp<=4->s3fs) (2.0.12)\n",
            "Collecting asynctest==0.13.0\n",
            "  Downloading asynctest-0.13.0-py3-none-any.whl (26 kB)\n",
            "Collecting aiosignal>=1.1.2\n",
            "  Downloading aiosignal-1.2.0-py3-none-any.whl (8.2 kB)\n",
            "Requirement already satisfied: attrs>=17.3.0 in /usr/local/lib/python3.7/dist-packages (from aiohttp<=4->s3fs) (21.4.0)\n",
            "Collecting yarl<2.0,>=1.0\n",
            "  Downloading yarl-1.7.2-cp37-cp37m-manylinux_2_5_x86_64.manylinux1_x86_64.manylinux_2_12_x86_64.manylinux2010_x86_64.whl (271 kB)\n",
            "\u001b[K     |████████████████████████████████| 271 kB 45.7 MB/s \n",
            "\u001b[?25hRequirement already satisfied: typing-extensions>=3.7.4 in /usr/local/lib/python3.7/dist-packages (from aiohttp<=4->s3fs) (4.2.0)\n",
            "Collecting frozenlist>=1.1.1\n",
            "  Downloading frozenlist-1.3.0-cp37-cp37m-manylinux_2_5_x86_64.manylinux1_x86_64.manylinux_2_17_x86_64.manylinux2014_x86_64.whl (144 kB)\n",
            "\u001b[K     |████████████████████████████████| 144 kB 44.0 MB/s \n",
            "\u001b[?25hCollecting async-timeout<5.0,>=4.0.0a3\n",
            "  Downloading async_timeout-4.0.2-py3-none-any.whl (5.8 kB)\n",
            "Collecting multidict<7.0,>=4.5\n",
            "  Downloading multidict-6.0.2-cp37-cp37m-manylinux_2_17_x86_64.manylinux2014_x86_64.whl (94 kB)\n",
            "\u001b[K     |████████████████████████████████| 94 kB 534 kB/s \n",
            "\u001b[?25hCollecting urllib3<1.27,>=1.25.4\n",
            "  Downloading urllib3-1.26.9-py2.py3-none-any.whl (138 kB)\n",
            "\u001b[K     |████████████████████████████████| 138 kB 46.8 MB/s \n",
            "\u001b[?25hRequirement already satisfied: python-dateutil<3.0.0,>=2.1 in /usr/local/lib/python3.7/dist-packages (from botocore<1.24.22,>=1.24.21->aiobotocore~=2.2.0->s3fs) (2.8.2)\n",
            "Collecting jmespath<2.0.0,>=0.7.1\n",
            "  Downloading jmespath-1.0.0-py3-none-any.whl (23 kB)\n",
            "Requirement already satisfied: six>=1.5 in /usr/local/lib/python3.7/dist-packages (from python-dateutil<3.0.0,>=2.1->botocore<1.24.22,>=1.24.21->aiobotocore~=2.2.0->s3fs) (1.15.0)\n",
            "Requirement already satisfied: idna>=2.0 in /usr/local/lib/python3.7/dist-packages (from yarl<2.0,>=1.0->aiohttp<=4->s3fs) (2.10)\n",
            "Building wheels for collected packages: aiobotocore\n",
            "  Building wheel for aiobotocore (setup.py) ... \u001b[?25l\u001b[?25hdone\n",
            "  Created wheel for aiobotocore: filename=aiobotocore-2.2.0-py3-none-any.whl size=57108 sha256=00ca5f5882e6b613548ee0055a408284113f1b4b1408a682b2057d86efb30803\n",
            "  Stored in directory: /root/.cache/pip/wheels/5f/c1/90/d81f357ee479228ab98b7558b6a6af12234e5ee9c29ab5c16f\n",
            "Successfully built aiobotocore\n",
            "Installing collected packages: multidict, frozenlist, yarl, urllib3, jmespath, asynctest, async-timeout, aiosignal, botocore, aioitertools, aiohttp, fsspec, aiobotocore, s3fs\n",
            "  Attempting uninstall: urllib3\n",
            "    Found existing installation: urllib3 1.24.3\n",
            "    Uninstalling urllib3-1.24.3:\n",
            "      Successfully uninstalled urllib3-1.24.3\n",
            "\u001b[31mERROR: pip's dependency resolver does not currently take into account all the packages that are installed. This behaviour is the source of the following dependency conflicts.\n",
            "requests 2.23.0 requires urllib3!=1.25.0,!=1.25.1,<1.26,>=1.21.1, but you have urllib3 1.26.9 which is incompatible.\n",
            "datascience 0.10.6 requires folium==0.2.1, but you have folium 0.8.3 which is incompatible.\u001b[0m\n",
            "Successfully installed aiobotocore-2.2.0 aiohttp-3.8.1 aioitertools-0.10.0 aiosignal-1.2.0 async-timeout-4.0.2 asynctest-0.13.0 botocore-1.24.21 frozenlist-1.3.0 fsspec-2022.3.0 jmespath-1.0.0 multidict-6.0.2 s3fs-2022.3.0 urllib3-1.26.9 yarl-1.7.2\n"
          ]
        }
      ]
    },
    {
      "cell_type": "code",
      "source": [
        "!pip install transformers"
      ],
      "metadata": {
        "colab": {
          "base_uri": "https://localhost:8080/"
        },
        "id": "LpjZ9vdoiJl9",
        "outputId": "a46410bc-18ce-4040-f38c-1a409a315415"
      },
      "execution_count": 4,
      "outputs": [
        {
          "output_type": "stream",
          "name": "stdout",
          "text": [
            "Collecting transformers\n",
            "  Downloading transformers-4.18.0-py3-none-any.whl (4.0 MB)\n",
            "\u001b[K     |████████████████████████████████| 4.0 MB 5.4 MB/s \n",
            "\u001b[?25hRequirement already satisfied: tqdm>=4.27 in /usr/local/lib/python3.7/dist-packages (from transformers) (4.64.0)\n",
            "Requirement already satisfied: requests in /usr/local/lib/python3.7/dist-packages (from transformers) (2.23.0)\n",
            "Collecting huggingface-hub<1.0,>=0.1.0\n",
            "  Downloading huggingface_hub-0.5.1-py3-none-any.whl (77 kB)\n",
            "\u001b[K     |████████████████████████████████| 77 kB 5.5 MB/s \n",
            "\u001b[?25hRequirement already satisfied: importlib-metadata in /usr/local/lib/python3.7/dist-packages (from transformers) (4.11.3)\n",
            "Requirement already satisfied: filelock in /usr/local/lib/python3.7/dist-packages (from transformers) (3.6.0)\n",
            "Requirement already satisfied: regex!=2019.12.17 in /usr/local/lib/python3.7/dist-packages (from transformers) (2019.12.20)\n",
            "Collecting sacremoses\n",
            "  Downloading sacremoses-0.0.50.tar.gz (880 kB)\n",
            "\u001b[K     |████████████████████████████████| 880 kB 43.5 MB/s \n",
            "\u001b[?25hCollecting tokenizers!=0.11.3,<0.13,>=0.11.1\n",
            "  Downloading tokenizers-0.12.1-cp37-cp37m-manylinux_2_12_x86_64.manylinux2010_x86_64.whl (6.6 MB)\n",
            "\u001b[K     |████████████████████████████████| 6.6 MB 38.1 MB/s \n",
            "\u001b[?25hCollecting pyyaml>=5.1\n",
            "  Downloading PyYAML-6.0-cp37-cp37m-manylinux_2_5_x86_64.manylinux1_x86_64.manylinux_2_12_x86_64.manylinux2010_x86_64.whl (596 kB)\n",
            "\u001b[K     |████████████████████████████████| 596 kB 45.3 MB/s \n",
            "\u001b[?25hRequirement already satisfied: packaging>=20.0 in /usr/local/lib/python3.7/dist-packages (from transformers) (21.3)\n",
            "Requirement already satisfied: numpy>=1.17 in /usr/local/lib/python3.7/dist-packages (from transformers) (1.21.6)\n",
            "Requirement already satisfied: typing-extensions>=3.7.4.3 in /usr/local/lib/python3.7/dist-packages (from huggingface-hub<1.0,>=0.1.0->transformers) (4.2.0)\n",
            "Requirement already satisfied: pyparsing!=3.0.5,>=2.0.2 in /usr/local/lib/python3.7/dist-packages (from packaging>=20.0->transformers) (3.0.8)\n",
            "Requirement already satisfied: zipp>=0.5 in /usr/local/lib/python3.7/dist-packages (from importlib-metadata->transformers) (3.8.0)\n",
            "Requirement already satisfied: certifi>=2017.4.17 in /usr/local/lib/python3.7/dist-packages (from requests->transformers) (2021.10.8)\n",
            "Requirement already satisfied: chardet<4,>=3.0.2 in /usr/local/lib/python3.7/dist-packages (from requests->transformers) (3.0.4)\n",
            "Requirement already satisfied: idna<3,>=2.5 in /usr/local/lib/python3.7/dist-packages (from requests->transformers) (2.10)\n",
            "Collecting urllib3!=1.25.0,!=1.25.1,<1.26,>=1.21.1\n",
            "  Downloading urllib3-1.25.11-py2.py3-none-any.whl (127 kB)\n",
            "\u001b[K     |████████████████████████████████| 127 kB 45.7 MB/s \n",
            "\u001b[?25hRequirement already satisfied: six in /usr/local/lib/python3.7/dist-packages (from sacremoses->transformers) (1.15.0)\n",
            "Collecting click==8.0\n",
            "  Downloading click-8.0.0-py3-none-any.whl (96 kB)\n",
            "\u001b[K     |████████████████████████████████| 96 kB 2.8 MB/s \n",
            "\u001b[?25hRequirement already satisfied: joblib in /usr/local/lib/python3.7/dist-packages (from sacremoses->transformers) (1.1.0)\n",
            "Building wheels for collected packages: sacremoses\n",
            "  Building wheel for sacremoses (setup.py) ... \u001b[?25l\u001b[?25hdone\n",
            "  Created wheel for sacremoses: filename=sacremoses-0.0.50-py3-none-any.whl size=895166 sha256=631c82cace935e8e43f43c4409bcfade4715bc5fe8433d40b0db14a772bff382\n",
            "  Stored in directory: /root/.cache/pip/wheels/d9/72/54/519f0d5143cc6c73fa3297509123c86fc8586a7fdea8d25311\n",
            "Successfully built sacremoses\n",
            "Installing collected packages: urllib3, pyyaml, click, tokenizers, sacremoses, huggingface-hub, transformers\n",
            "  Attempting uninstall: urllib3\n",
            "    Found existing installation: urllib3 1.26.9\n",
            "    Uninstalling urllib3-1.26.9:\n",
            "      Successfully uninstalled urllib3-1.26.9\n",
            "  Attempting uninstall: pyyaml\n",
            "    Found existing installation: PyYAML 3.13\n",
            "    Uninstalling PyYAML-3.13:\n",
            "      Successfully uninstalled PyYAML-3.13\n",
            "  Attempting uninstall: click\n",
            "    Found existing installation: click 7.1.2\n",
            "    Uninstalling click-7.1.2:\n",
            "      Successfully uninstalled click-7.1.2\n",
            "\u001b[31mERROR: pip's dependency resolver does not currently take into account all the packages that are installed. This behaviour is the source of the following dependency conflicts.\n",
            "flask 1.1.4 requires click<8.0,>=5.1, but you have click 8.0.0 which is incompatible.\n",
            "datascience 0.10.6 requires folium==0.2.1, but you have folium 0.8.3 which is incompatible.\u001b[0m\n",
            "Successfully installed click-8.0.0 huggingface-hub-0.5.1 pyyaml-6.0 sacremoses-0.0.50 tokenizers-0.12.1 transformers-4.18.0 urllib3-1.25.11\n"
          ]
        }
      ]
    },
    {
      "cell_type": "code",
      "source": [
        "import tensorflow as tf\n",
        "import numpy as np\n",
        "import sklearn\n",
        "from sklearn import metrics\n",
        "import transformers\n",
        "from transformers import AutoTokenizer, TFAutoModelForSequenceClassification\n",
        "import json\n",
        "import matplotlib.pyplot as plt\n",
        "import random\n",
        "import seaborn as sn\n",
        "import pickle\n",
        "import pandas as pd\n",
        "import s3fs"
      ],
      "metadata": {
        "id": "X_U_3VVTWcAL"
      },
      "execution_count": 24,
      "outputs": []
    },
    {
      "cell_type": "code",
      "source": [
        "#@title Visualize and pre-process data"
      ],
      "metadata": {
        "id": "M1mu_b41Wvtk",
        "cellView": "form"
      },
      "execution_count": 1,
      "outputs": []
    },
    {
      "cell_type": "code",
      "source": [
        "df = pd.read_csv('https://togneva-bucket.s3.amazonaws.com/nlp_sample.csv')\n",
        "# df = pd.read_csv('https://togneva-bucket.s3.amazonaws.com/clean_news_data.csv')\n",
        "df.head()"
      ],
      "metadata": {
        "colab": {
          "base_uri": "https://localhost:8080/",
          "height": 206
        },
        "id": "woessjP3cnzO",
        "outputId": "6d6a3798-9241-458a-d691-8b53a53837b4"
      },
      "execution_count": 32,
      "outputs": [
        {
          "output_type": "execute_result",
          "data": {
            "text/plain": [
              "   Unnamed: 0 category                                           headline  \\\n",
              "0           0     ARTS  How One Woman Is Turning Her Online Harassment...   \n",
              "1           1     ARTS                          Be An Outsider, Be A Hero   \n",
              "2           2     ARTS  A Love Letter To Louise Bourgeois, A Feminist ...   \n",
              "3           3     ARTS       Atlanta Symphony Lockout Is Enforced Silence   \n",
              "4           4     ARTS                             Return of the Artisan?   \n",
              "\n",
              "                                             authors  \\\n",
              "0                                    Priscilla Frank   \n",
              "1  Simon Watson, ContributorIndependent curator, ...   \n",
              "2                                   Katherine Brooks   \n",
              "3  Alan Fletcher, ContributorComposer, commentato...   \n",
              "4  Phil Simon, ContributorSpeaker, author, professor   \n",
              "\n",
              "                                                link  \\\n",
              "0  https://www.huffingtonpost.com/entry/amy-davis...   \n",
              "1  https://www.huffingtonpost.com/entry/be-an-out...   \n",
              "2  https://www.huffingtonpost.com/entry/louise-bo...   \n",
              "3  https://www.huffingtonpost.com/entry/atlanta-s...   \n",
              "4  https://www.huffingtonpost.com/entry/return-of...   \n",
              "\n",
              "                                   short_description        date  \\\n",
              "0                                                NaN  2014-09-13   \n",
              "1  FOR A MEETING last week, I flew three-and-a-ha...  2016-03-26   \n",
              "2                                                NaN  2014-07-19   \n",
              "3  What is needed, in Atlanta and everywhere, is ...  2014-09-25   \n",
              "4  The digital revolution in music has always fac...  2014-10-26   \n",
              "\n",
              "     new_category                                            article  \\\n",
              "0  ARTS & CULTURE  This post originally appeared on Slate. \\nBy P...   \n",
              "1  ARTS & CULTURE  \\nFortaleza, Brazil-- where Hélio Oiticica: Es...   \n",
              "2  ARTS & CULTURE  Louis Bourgeois is a feminist art icon, even i...   \n",
              "3  ARTS & CULTURE  More than a year ago, the Minnesota Orchestra ...   \n",
              "4  ARTS & CULTURE  The digital revolution in music has always fac...   \n",
              "\n",
              "   article_length  \n",
              "0          3212.0  \n",
              "1          4687.0  \n",
              "2          8014.0  \n",
              "3          9325.0  \n",
              "4          7045.0  "
            ],
            "text/html": [
              "\n",
              "  <div id=\"df-51b4c8b6-61d3-4d06-a95d-668dd6e5c568\">\n",
              "    <div class=\"colab-df-container\">\n",
              "      <div>\n",
              "<style scoped>\n",
              "    .dataframe tbody tr th:only-of-type {\n",
              "        vertical-align: middle;\n",
              "    }\n",
              "\n",
              "    .dataframe tbody tr th {\n",
              "        vertical-align: top;\n",
              "    }\n",
              "\n",
              "    .dataframe thead th {\n",
              "        text-align: right;\n",
              "    }\n",
              "</style>\n",
              "<table border=\"1\" class=\"dataframe\">\n",
              "  <thead>\n",
              "    <tr style=\"text-align: right;\">\n",
              "      <th></th>\n",
              "      <th>Unnamed: 0</th>\n",
              "      <th>category</th>\n",
              "      <th>headline</th>\n",
              "      <th>authors</th>\n",
              "      <th>link</th>\n",
              "      <th>short_description</th>\n",
              "      <th>date</th>\n",
              "      <th>new_category</th>\n",
              "      <th>article</th>\n",
              "      <th>article_length</th>\n",
              "    </tr>\n",
              "  </thead>\n",
              "  <tbody>\n",
              "    <tr>\n",
              "      <th>0</th>\n",
              "      <td>0</td>\n",
              "      <td>ARTS</td>\n",
              "      <td>How One Woman Is Turning Her Online Harassment...</td>\n",
              "      <td>Priscilla Frank</td>\n",
              "      <td>https://www.huffingtonpost.com/entry/amy-davis...</td>\n",
              "      <td>NaN</td>\n",
              "      <td>2014-09-13</td>\n",
              "      <td>ARTS &amp; CULTURE</td>\n",
              "      <td>This post originally appeared on Slate. \\nBy P...</td>\n",
              "      <td>3212.0</td>\n",
              "    </tr>\n",
              "    <tr>\n",
              "      <th>1</th>\n",
              "      <td>1</td>\n",
              "      <td>ARTS</td>\n",
              "      <td>Be An Outsider, Be A Hero</td>\n",
              "      <td>Simon Watson, ContributorIndependent curator, ...</td>\n",
              "      <td>https://www.huffingtonpost.com/entry/be-an-out...</td>\n",
              "      <td>FOR A MEETING last week, I flew three-and-a-ha...</td>\n",
              "      <td>2016-03-26</td>\n",
              "      <td>ARTS &amp; CULTURE</td>\n",
              "      <td>\\nFortaleza, Brazil-- where Hélio Oiticica: Es...</td>\n",
              "      <td>4687.0</td>\n",
              "    </tr>\n",
              "    <tr>\n",
              "      <th>2</th>\n",
              "      <td>2</td>\n",
              "      <td>ARTS</td>\n",
              "      <td>A Love Letter To Louise Bourgeois, A Feminist ...</td>\n",
              "      <td>Katherine Brooks</td>\n",
              "      <td>https://www.huffingtonpost.com/entry/louise-bo...</td>\n",
              "      <td>NaN</td>\n",
              "      <td>2014-07-19</td>\n",
              "      <td>ARTS &amp; CULTURE</td>\n",
              "      <td>Louis Bourgeois is a feminist art icon, even i...</td>\n",
              "      <td>8014.0</td>\n",
              "    </tr>\n",
              "    <tr>\n",
              "      <th>3</th>\n",
              "      <td>3</td>\n",
              "      <td>ARTS</td>\n",
              "      <td>Atlanta Symphony Lockout Is Enforced Silence</td>\n",
              "      <td>Alan Fletcher, ContributorComposer, commentato...</td>\n",
              "      <td>https://www.huffingtonpost.com/entry/atlanta-s...</td>\n",
              "      <td>What is needed, in Atlanta and everywhere, is ...</td>\n",
              "      <td>2014-09-25</td>\n",
              "      <td>ARTS &amp; CULTURE</td>\n",
              "      <td>More than a year ago, the Minnesota Orchestra ...</td>\n",
              "      <td>9325.0</td>\n",
              "    </tr>\n",
              "    <tr>\n",
              "      <th>4</th>\n",
              "      <td>4</td>\n",
              "      <td>ARTS</td>\n",
              "      <td>Return of the Artisan?</td>\n",
              "      <td>Phil Simon, ContributorSpeaker, author, professor</td>\n",
              "      <td>https://www.huffingtonpost.com/entry/return-of...</td>\n",
              "      <td>The digital revolution in music has always fac...</td>\n",
              "      <td>2014-10-26</td>\n",
              "      <td>ARTS &amp; CULTURE</td>\n",
              "      <td>The digital revolution in music has always fac...</td>\n",
              "      <td>7045.0</td>\n",
              "    </tr>\n",
              "  </tbody>\n",
              "</table>\n",
              "</div>\n",
              "      <button class=\"colab-df-convert\" onclick=\"convertToInteractive('df-51b4c8b6-61d3-4d06-a95d-668dd6e5c568')\"\n",
              "              title=\"Convert this dataframe to an interactive table.\"\n",
              "              style=\"display:none;\">\n",
              "        \n",
              "  <svg xmlns=\"http://www.w3.org/2000/svg\" height=\"24px\"viewBox=\"0 0 24 24\"\n",
              "       width=\"24px\">\n",
              "    <path d=\"M0 0h24v24H0V0z\" fill=\"none\"/>\n",
              "    <path d=\"M18.56 5.44l.94 2.06.94-2.06 2.06-.94-2.06-.94-.94-2.06-.94 2.06-2.06.94zm-11 1L8.5 8.5l.94-2.06 2.06-.94-2.06-.94L8.5 2.5l-.94 2.06-2.06.94zm10 10l.94 2.06.94-2.06 2.06-.94-2.06-.94-.94-2.06-.94 2.06-2.06.94z\"/><path d=\"M17.41 7.96l-1.37-1.37c-.4-.4-.92-.59-1.43-.59-.52 0-1.04.2-1.43.59L10.3 9.45l-7.72 7.72c-.78.78-.78 2.05 0 2.83L4 21.41c.39.39.9.59 1.41.59.51 0 1.02-.2 1.41-.59l7.78-7.78 2.81-2.81c.8-.78.8-2.07 0-2.86zM5.41 20L4 18.59l7.72-7.72 1.47 1.35L5.41 20z\"/>\n",
              "  </svg>\n",
              "      </button>\n",
              "      \n",
              "  <style>\n",
              "    .colab-df-container {\n",
              "      display:flex;\n",
              "      flex-wrap:wrap;\n",
              "      gap: 12px;\n",
              "    }\n",
              "\n",
              "    .colab-df-convert {\n",
              "      background-color: #E8F0FE;\n",
              "      border: none;\n",
              "      border-radius: 50%;\n",
              "      cursor: pointer;\n",
              "      display: none;\n",
              "      fill: #1967D2;\n",
              "      height: 32px;\n",
              "      padding: 0 0 0 0;\n",
              "      width: 32px;\n",
              "    }\n",
              "\n",
              "    .colab-df-convert:hover {\n",
              "      background-color: #E2EBFA;\n",
              "      box-shadow: 0px 1px 2px rgba(60, 64, 67, 0.3), 0px 1px 3px 1px rgba(60, 64, 67, 0.15);\n",
              "      fill: #174EA6;\n",
              "    }\n",
              "\n",
              "    [theme=dark] .colab-df-convert {\n",
              "      background-color: #3B4455;\n",
              "      fill: #D2E3FC;\n",
              "    }\n",
              "\n",
              "    [theme=dark] .colab-df-convert:hover {\n",
              "      background-color: #434B5C;\n",
              "      box-shadow: 0px 1px 3px 1px rgba(0, 0, 0, 0.15);\n",
              "      filter: drop-shadow(0px 1px 2px rgba(0, 0, 0, 0.3));\n",
              "      fill: #FFFFFF;\n",
              "    }\n",
              "  </style>\n",
              "\n",
              "      <script>\n",
              "        const buttonEl =\n",
              "          document.querySelector('#df-51b4c8b6-61d3-4d06-a95d-668dd6e5c568 button.colab-df-convert');\n",
              "        buttonEl.style.display =\n",
              "          google.colab.kernel.accessAllowed ? 'block' : 'none';\n",
              "\n",
              "        async function convertToInteractive(key) {\n",
              "          const element = document.querySelector('#df-51b4c8b6-61d3-4d06-a95d-668dd6e5c568');\n",
              "          const dataTable =\n",
              "            await google.colab.kernel.invokeFunction('convertToInteractive',\n",
              "                                                     [key], {});\n",
              "          if (!dataTable) return;\n",
              "\n",
              "          const docLinkHtml = 'Like what you see? Visit the ' +\n",
              "            '<a target=\"_blank\" href=https://colab.research.google.com/notebooks/data_table.ipynb>data table notebook</a>'\n",
              "            + ' to learn more about interactive tables.';\n",
              "          element.innerHTML = '';\n",
              "          dataTable['output_type'] = 'display_data';\n",
              "          await google.colab.output.renderOutput(dataTable, element);\n",
              "          const docLink = document.createElement('div');\n",
              "          docLink.innerHTML = docLinkHtml;\n",
              "          element.appendChild(docLink);\n",
              "        }\n",
              "      </script>\n",
              "    </div>\n",
              "  </div>\n",
              "  "
            ]
          },
          "metadata": {},
          "execution_count": 32
        }
      ]
    },
    {
      "cell_type": "code",
      "source": [
        "df['article_length'].value_counts(bins=15)"
      ],
      "metadata": {
        "colab": {
          "base_uri": "https://localhost:8080/"
        },
        "id": "xzF1Ln1ZK-KQ",
        "outputId": "adbc8125-09e8-4940-e50b-59c45e359957"
      },
      "execution_count": 33,
      "outputs": [
        {
          "output_type": "execute_result",
          "data": {
            "text/plain": [
              "(-30.492, 2032.733]       624\n",
              "(2032.733, 4065.467]      495\n",
              "(4065.467, 6098.2]        410\n",
              "(6098.2, 8130.933]        153\n",
              "(8130.933, 10163.667]      53\n",
              "(10163.667, 12196.4]       26\n",
              "(12196.4, 14229.133]        9\n",
              "(14229.133, 16261.867]      3\n",
              "(16261.867, 18294.6]        2\n",
              "(18294.6, 20327.333]        2\n",
              "(20327.333, 22360.067]      2\n",
              "(22360.067, 24392.8]        2\n",
              "(28458.267, 30491.0]        2\n",
              "(24392.8, 26425.533]        0\n",
              "(26425.533, 28458.267]      0\n",
              "Name: article_length, dtype: int64"
            ]
          },
          "metadata": {},
          "execution_count": 33
        }
      ]
    },
    {
      "cell_type": "code",
      "source": [
        "len(df)"
      ],
      "metadata": {
        "colab": {
          "base_uri": "https://localhost:8080/"
        },
        "id": "cQ_XZcJ30pV7",
        "outputId": "5198b818-047b-4978-9e39-1be21b4f7874"
      },
      "execution_count": 34,
      "outputs": [
        {
          "output_type": "execute_result",
          "data": {
            "text/plain": [
              "1783"
            ]
          },
          "metadata": {},
          "execution_count": 34
        }
      ]
    },
    {
      "cell_type": "code",
      "source": [
        "# Remove articles that could not be scraped and articles under 200 words.\n",
        "df = df[['article', 'article_length', 'headline', 'category', 'new_category']]       \n",
        "df = df.loc[df['article'] != 'article could not be scraped']\n",
        "df = df.dropna()\n",
        "\n",
        "# Shuffle the dataframe keeping all rows\n",
        "df = df.sample(frac=1).reset_index(drop=True)"
      ],
      "metadata": {
        "id": "qWegbaU-yop5"
      },
      "execution_count": 35,
      "outputs": []
    },
    {
      "cell_type": "code",
      "source": [
        "df['article_length'].describe()"
      ],
      "metadata": {
        "colab": {
          "base_uri": "https://localhost:8080/"
        },
        "id": "vsyIlY0bJctM",
        "outputId": "43ca5621-a37b-4a99-d14e-22de5699c7c7"
      },
      "execution_count": 36,
      "outputs": [
        {
          "output_type": "execute_result",
          "data": {
            "text/plain": [
              "count     1782.000000\n",
              "mean      3616.713244\n",
              "std       2902.177186\n",
              "min         34.000000\n",
              "25%       1509.500000\n",
              "50%       3055.500000\n",
              "75%       5044.750000\n",
              "max      30491.000000\n",
              "Name: article_length, dtype: float64"
            ]
          },
          "metadata": {},
          "execution_count": 36
        }
      ]
    },
    {
      "cell_type": "code",
      "source": [
        "# Create lists of headlines, articles and labels\n",
        "headlines = df['headline'].tolist()\n",
        "articles = df['article'].tolist()\n",
        "labels = df['new_category'].tolist()"
      ],
      "metadata": {
        "id": "WmMuwoEyhGIx"
      },
      "execution_count": 37,
      "outputs": []
    },
    {
      "cell_type": "code",
      "source": [
        "articles[8]"
      ],
      "metadata": {
        "colab": {
          "base_uri": "https://localhost:8080/",
          "height": 91
        },
        "id": "QVyVwqGai9DG",
        "outputId": "b052011c-a5b3-4bbc-d9e5-a133ac21b412"
      },
      "execution_count": 38,
      "outputs": [
        {
          "output_type": "execute_result",
          "data": {
            "text/plain": [
              "'Left Behind, an apocalyptic thriller starring Nicholas Cage, premieres October 3. A key premise of the Left Behind series is that most people will be ... well, \"left behind.\" As history reaches its climax before Jesus\\'s return to rule the world, the world experiences terrible tribulation. True followers of Jesus, however, escape this final period of suffering, because they are \"raptured,\" taken out of the world.\\nFor those who have never heard this premise, it is one believed by many people. It was promoted in the early twentieth century by the Scofield Reference Bible, in the 1970s by Hal Lindsey\\'s Late, Great Planet Earth, and today by Left Behind novels and movies. Many denominations and churches founded in the twentieth century, as well as global movements led by their adherents, support this basic left-behind theology.\\nMany people in these churches take for granted that this is what the Bible teaches. They may be surprised to discover that no biblical text specifically and unambiguously mentions believers being removed before the final tribulation. That limitation may be why we have no clear record of any interpreter noticing the view in the Bible before 1830. The view was held by none of the church fathers, none of the Reformers such as Luther or Calvin, none of the leaders in various evangelical revival movements such as John Wesley, Jonathan Edwards, or Charles Finney. I am reasonably certain that today the majority of evangelical biblical scholars (as well as virtually all other Christian biblical scholars) reject it.\\nPassages in the Bible do teach that Jesus will return, that he will gather his followers, and that he will bring justice by punishing those who chose evil rather than truth. Passages also promise a subsequent future of justice and peace. By showing that God values justice and peace, such passages also invite his followers to work for such values now. Some New Testament passages further share the ancient Jewish expectation of a period of end-time tribulation, although scholars debate what this means. (Many of us address these questions more fully in our Revelation commentaries; to remain concise, I simply summarize here.)\\nBut no unambiguous passage supports Christians being \"raptured\" before the tribulation. The Book of Revelation describes sufferings, many of which characterize much of the world we live in. But while Revelation depicts God protecting at least some of his people from his own judgment, it nowhere mentions Christians being removed. Revelation\\'s first full description of Jesus\\'s coming, as well as its first mention of what many construe as Christians\\' resurrection (\"the first resurrection\") appear toward the end of the book (Revelation 19:11-16; 20:4-5). Throughout Revelation\\'s middle section, God\\'s servants suffer on earth and, after death, worship in heaven.\\nTo argue that a rapture precedes Revelation\\'s tribulation, some appeal to Revelation 4:1, where a voice invites John, \"Come up here!\" But this voice invites John\\'s vision, not the church\\'s rapture (compare 17:1; 21:9). More persuasively, some appeal to Jesus\\'s promise to some Christians in 3:10: \"I will keep you from the hour of testing.\" The wording, however, can mean \"protect from while there\" (as in John 17:15)--an understanding that better fits the rest of Revelation.\\nMany counter with 2 Thessalonians 2:3-7, where a restrainer is removed before the coming of the ultimate wicked ruler (what many call the \"antichrist\"). Readers propose a vast range of interpretations here, but one view that context prohibits is that the passage describes Christians\\' \"rapture.\" The wicked ruler comes before Jesus\\'s coming to gather his people (2:1-3), when Jesus will destroy that wicked ruler (2:8). Further in the context, Jesus\\'s followers do not receive final exemption from sufferings until his public return to judge the world (1:5-10).\\nI can summarize only three more arguments of \"left behind\" proponents. Some protest that since Jesus will come unexpectedly, he must return before the final tribulation. Unfortunately for this argument, most texts that speak of Jesus\\'s unexpected coming are in contexts that refer unambiguously to his coming to judge the world, with no specific reference to an event several years before (Matthew 24:29-31, 43-44; 2 Peter 3:10; Revelation 16:15-21). Indeed, other passages summon Christians to look for Jesus\\'s public \"appearing\" (Titus 2:13) and the final judgment (2 Peter 3:12). \\nIn context, Jesus\\'s saying that mentions some being \"left behind\" may refer to the righteous left behind when the wicked are \"taken\" to judgment (Matthew 24:38-41), to where vultures feed on corpses (Luke 17:34-37)!\\nFinally, some contend that Christians will escape God\\'s \"wrath\" (citing Paul in 1 Thessalonians 1:10; 5:9). But elsewhere in Paul\\'s letters deliverance from God\\'s wrath means that Jesus\\'s followers are forgiven because of him (Rom 5:9). It does not refer to escaping tribulation. Even when Revelation uses the Greek term that Paul uses here, it refers to final judgment, not a preceding tribulation. (Revelation may use a different Greek term for God\\'s anger during tribulation, but even that Greek term refers more often to the final judgment.)\\nMany books argue for or against left-behind theology. When I am asked what book I recommend against left-behind theology, I usually recommend that people read a book supporting that theology -- and then look up in context all the verses it quotes. After I became a Christian, I was initially schooled in \"left behind\" theology myself. Once I began reading the Bible carefully, however, I discovered that every text supporting this view was out of context. \\nI would challenge the view\\'s advocates to reread the Bible as honestly as possible with this question in mind: If you had never been taught either way, would you recognize a clear gathering of believers before a future tribulation, or would you identify that gathering with what happens at Jesus\\'s return after tribulation (e.g., Matthew 24:31; Mark 13:24-27)? \\nI readily defer the role of film critic to others, as well as the separate question of determining what is left of the series\\' theology if the \"left behind\" premise is removed. But if Christians will not leave the rest of the world behind, we\\'re all in this together for now. If so, that probably means that God wants us to keep loving and serving our neighbors in the meantime.\\n'"
            ],
            "application/vnd.google.colaboratory.intrinsic+json": {
              "type": "string"
            }
          },
          "metadata": {},
          "execution_count": 38
        }
      ]
    },
    {
      "cell_type": "code",
      "source": [
        "# Save number of records as a variable\n",
        "n_elements=len(headlines)\n",
        "print('Elements in dataset:', n_elements)\n",
        "\n",
        "# Save number of categories as a variable\n",
        "categories = sorted(list(set(labels))) #set will return the unique different entries\n",
        "n_categories=len(categories)\n",
        "print(\"{} categories found:\".format(n_categories))\n",
        "for category in categories:\n",
        "    print(category)"
      ],
      "metadata": {
        "colab": {
          "base_uri": "https://localhost:8080/"
        },
        "id": "s4dNVvc6W2S6",
        "outputId": "be07cb65-893e-4f36-82ea-72aa83f9a530"
      },
      "execution_count": 39,
      "outputs": [
        {
          "output_type": "stream",
          "name": "stdout",
          "text": [
            "Elements in dataset: 1782\n",
            "13 categories found:\n",
            "ARTS & CULTURE\n",
            "BUSINESS\n",
            "CRIME\n",
            "EDUCATION\n",
            "ENTERTAINMENT\n",
            "ENVIRONMENT\n",
            "FAMILY\n",
            "HEALTH & WELLNESS\n",
            "POLITICS\n",
            "RELIGION\n",
            "SPORTS\n",
            "TECH & SCIENCE\n",
            "VOICES\n"
          ]
        }
      ]
    },
    {
      "cell_type": "code",
      "source": [
        "fig = plt.figure(figsize=(10,5))\n",
        "lbl, counts = np.unique(labels, return_counts=True)\n",
        "ticks = range(len(counts))\n",
        "plt.bar(ticks, counts, align='center')\n",
        "plt.xticks(ticks, lbl)\n",
        "plt.xticks(rotation=90)\n",
        "plt.ylabel('counts')\n",
        "plt.show()"
      ],
      "metadata": {
        "colab": {
          "base_uri": "https://localhost:8080/",
          "height": 414
        },
        "id": "zM8-lKrdYt9r",
        "outputId": "051740c1-7c40-49a0-98f3-aabcab76f8ab"
      },
      "execution_count": 40,
      "outputs": [
        {
          "output_type": "display_data",
          "data": {
            "text/plain": [
              "<Figure size 720x360 with 1 Axes>"
            ],
            "image/png": "[encoded data removed]"
          },
          "metadata": {
            "needs_background": "light"
          }
        }
      ]
    },
    {
      "cell_type": "code",
      "source": [
        "#@title Preprocess the articles for training the model\n",
        "#@markdown We will encode the labels and tokenize the articles for use with the model.  \n",
        "#@markdown Huggingface provides pretrained tokenizers that were used when training the models. We will use AutoTokenizer from pretrained \"roberta-base\" model."
      ],
      "metadata": {
        "cellView": "form",
        "id": "M5nAYK6AZBuu"
      },
      "execution_count": 41,
      "outputs": []
    },
    {
      "cell_type": "code",
      "source": [
        "# Create a function to encode categorical labels to numeric format\n",
        "def encode_labels(labels):\n",
        "    indices=[]\n",
        "    for j in range(len(labels)):\n",
        "        for i in range(n_categories):\n",
        "            if labels[j]==categories[i]:\n",
        "                indices.append(i)\n",
        "    return indices\n",
        "\n",
        "# Encode labels\n",
        "indices = encode_labels(labels)\n",
        "indices[:10]"
      ],
      "metadata": {
        "colab": {
          "base_uri": "https://localhost:8080/"
        },
        "id": "gBv8POiBjUz6",
        "outputId": "a21dd131-e76b-4d1e-cf21-5353fc7a0806"
      },
      "execution_count": 42,
      "outputs": [
        {
          "output_type": "execute_result",
          "data": {
            "text/plain": [
              "[7, 10, 6, 7, 4, 11, 3, 5, 9, 8]"
            ]
          },
          "metadata": {},
          "execution_count": 42
        }
      ]
    },
    {
      "cell_type": "code",
      "source": [
        "# Import Roberta tokenizer \n",
        "tokenizer = AutoTokenizer.from_pretrained(\"roberta-base\")\n",
        "\n",
        "# Tokenize the articles\n",
        "tokenized_articles = tokenizer(articles, padding=True, truncation=True, return_tensors='tf')"
      ],
      "metadata": {
        "id": "9qY6lO6Gju9M"
      },
      "execution_count": 43,
      "outputs": []
    },
    {
      "cell_type": "code",
      "source": [
        "# detect and initialize the TPU\n",
        "tpu = tf.distribute.cluster_resolver.TPUClusterResolver()\n",
        "tf.config.experimental_connect_to_cluster(tpu)\n",
        "tf.tpu.experimental.initialize_tpu_system(tpu)\n",
        "tpu_strategy = tf.distribute.experimental.TPUStrategy(tpu)\n",
        "\n",
        "batch_size=2\n",
        "print('Batch size:', batch_size)\n",
        "AUTOTUNE = tf.data.experimental.AUTOTUNE"
      ],
      "metadata": {
        "colab": {
          "base_uri": "https://localhost:8080/"
        },
        "id": "5Ilgdp22lWU-",
        "outputId": "e6bb27d9-a575-45fa-ea1b-e326f5cefb79"
      },
      "execution_count": 44,
      "outputs": [
        {
          "output_type": "stream",
          "name": "stdout",
          "text": [
            "INFO:tensorflow:Deallocate tpu buffers before initializing tpu system.\n"
          ]
        },
        {
          "output_type": "stream",
          "name": "stderr",
          "text": [
            "INFO:tensorflow:Deallocate tpu buffers before initializing tpu system.\n"
          ]
        },
        {
          "output_type": "stream",
          "name": "stdout",
          "text": [
            "INFO:tensorflow:Initializing the TPU system: grpc://10.16.67.186:8470\n"
          ]
        },
        {
          "output_type": "stream",
          "name": "stderr",
          "text": [
            "INFO:tensorflow:Initializing the TPU system: grpc://10.16.67.186:8470\n"
          ]
        },
        {
          "output_type": "stream",
          "name": "stdout",
          "text": [
            "INFO:tensorflow:Finished initializing TPU system.\n"
          ]
        },
        {
          "output_type": "stream",
          "name": "stderr",
          "text": [
            "INFO:tensorflow:Finished initializing TPU system.\n",
            "WARNING:absl:`tf.distribute.experimental.TPUStrategy` is deprecated, please use  the non experimental symbol `tf.distribute.TPUStrategy` instead.\n"
          ]
        },
        {
          "output_type": "stream",
          "name": "stdout",
          "text": [
            "INFO:tensorflow:Found TPU system:\n"
          ]
        },
        {
          "output_type": "stream",
          "name": "stderr",
          "text": [
            "INFO:tensorflow:Found TPU system:\n"
          ]
        },
        {
          "output_type": "stream",
          "name": "stdout",
          "text": [
            "INFO:tensorflow:*** Num TPU Cores: 8\n"
          ]
        },
        {
          "output_type": "stream",
          "name": "stderr",
          "text": [
            "INFO:tensorflow:*** Num TPU Cores: 8\n"
          ]
        },
        {
          "output_type": "stream",
          "name": "stdout",
          "text": [
            "INFO:tensorflow:*** Num TPU Workers: 1\n"
          ]
        },
        {
          "output_type": "stream",
          "name": "stderr",
          "text": [
            "INFO:tensorflow:*** Num TPU Workers: 1\n"
          ]
        },
        {
          "output_type": "stream",
          "name": "stdout",
          "text": [
            "INFO:tensorflow:*** Num TPU Cores Per Worker: 8\n"
          ]
        },
        {
          "output_type": "stream",
          "name": "stderr",
          "text": [
            "INFO:tensorflow:*** Num TPU Cores Per Worker: 8\n"
          ]
        },
        {
          "output_type": "stream",
          "name": "stdout",
          "text": [
            "INFO:tensorflow:*** Available Device: _DeviceAttributes(/job:localhost/replica:0/task:0/device:CPU:0, CPU, 0, 0)\n"
          ]
        },
        {
          "output_type": "stream",
          "name": "stderr",
          "text": [
            "INFO:tensorflow:*** Available Device: _DeviceAttributes(/job:localhost/replica:0/task:0/device:CPU:0, CPU, 0, 0)\n"
          ]
        },
        {
          "output_type": "stream",
          "name": "stdout",
          "text": [
            "INFO:tensorflow:*** Available Device: _DeviceAttributes(/job:worker/replica:0/task:0/device:CPU:0, CPU, 0, 0)\n"
          ]
        },
        {
          "output_type": "stream",
          "name": "stderr",
          "text": [
            "INFO:tensorflow:*** Available Device: _DeviceAttributes(/job:worker/replica:0/task:0/device:CPU:0, CPU, 0, 0)\n"
          ]
        },
        {
          "output_type": "stream",
          "name": "stdout",
          "text": [
            "INFO:tensorflow:*** Available Device: _DeviceAttributes(/job:worker/replica:0/task:0/device:TPU:0, TPU, 0, 0)\n"
          ]
        },
        {
          "output_type": "stream",
          "name": "stderr",
          "text": [
            "INFO:tensorflow:*** Available Device: _DeviceAttributes(/job:worker/replica:0/task:0/device:TPU:0, TPU, 0, 0)\n"
          ]
        },
        {
          "output_type": "stream",
          "name": "stdout",
          "text": [
            "INFO:tensorflow:*** Available Device: _DeviceAttributes(/job:worker/replica:0/task:0/device:TPU:1, TPU, 0, 0)\n"
          ]
        },
        {
          "output_type": "stream",
          "name": "stderr",
          "text": [
            "INFO:tensorflow:*** Available Device: _DeviceAttributes(/job:worker/replica:0/task:0/device:TPU:1, TPU, 0, 0)\n"
          ]
        },
        {
          "output_type": "stream",
          "name": "stdout",
          "text": [
            "INFO:tensorflow:*** Available Device: _DeviceAttributes(/job:worker/replica:0/task:0/device:TPU:2, TPU, 0, 0)\n"
          ]
        },
        {
          "output_type": "stream",
          "name": "stderr",
          "text": [
            "INFO:tensorflow:*** Available Device: _DeviceAttributes(/job:worker/replica:0/task:0/device:TPU:2, TPU, 0, 0)\n"
          ]
        },
        {
          "output_type": "stream",
          "name": "stdout",
          "text": [
            "INFO:tensorflow:*** Available Device: _DeviceAttributes(/job:worker/replica:0/task:0/device:TPU:3, TPU, 0, 0)\n"
          ]
        },
        {
          "output_type": "stream",
          "name": "stderr",
          "text": [
            "INFO:tensorflow:*** Available Device: _DeviceAttributes(/job:worker/replica:0/task:0/device:TPU:3, TPU, 0, 0)\n"
          ]
        },
        {
          "output_type": "stream",
          "name": "stdout",
          "text": [
            "INFO:tensorflow:*** Available Device: _DeviceAttributes(/job:worker/replica:0/task:0/device:TPU:4, TPU, 0, 0)\n"
          ]
        },
        {
          "output_type": "stream",
          "name": "stderr",
          "text": [
            "INFO:tensorflow:*** Available Device: _DeviceAttributes(/job:worker/replica:0/task:0/device:TPU:4, TPU, 0, 0)\n"
          ]
        },
        {
          "output_type": "stream",
          "name": "stdout",
          "text": [
            "INFO:tensorflow:*** Available Device: _DeviceAttributes(/job:worker/replica:0/task:0/device:TPU:5, TPU, 0, 0)\n"
          ]
        },
        {
          "output_type": "stream",
          "name": "stderr",
          "text": [
            "INFO:tensorflow:*** Available Device: _DeviceAttributes(/job:worker/replica:0/task:0/device:TPU:5, TPU, 0, 0)\n"
          ]
        },
        {
          "output_type": "stream",
          "name": "stdout",
          "text": [
            "INFO:tensorflow:*** Available Device: _DeviceAttributes(/job:worker/replica:0/task:0/device:TPU:6, TPU, 0, 0)\n"
          ]
        },
        {
          "output_type": "stream",
          "name": "stderr",
          "text": [
            "INFO:tensorflow:*** Available Device: _DeviceAttributes(/job:worker/replica:0/task:0/device:TPU:6, TPU, 0, 0)\n"
          ]
        },
        {
          "output_type": "stream",
          "name": "stdout",
          "text": [
            "INFO:tensorflow:*** Available Device: _DeviceAttributes(/job:worker/replica:0/task:0/device:TPU:7, TPU, 0, 0)\n"
          ]
        },
        {
          "output_type": "stream",
          "name": "stderr",
          "text": [
            "INFO:tensorflow:*** Available Device: _DeviceAttributes(/job:worker/replica:0/task:0/device:TPU:7, TPU, 0, 0)\n"
          ]
        },
        {
          "output_type": "stream",
          "name": "stdout",
          "text": [
            "INFO:tensorflow:*** Available Device: _DeviceAttributes(/job:worker/replica:0/task:0/device:TPU_SYSTEM:0, TPU_SYSTEM, 0, 0)\n"
          ]
        },
        {
          "output_type": "stream",
          "name": "stderr",
          "text": [
            "INFO:tensorflow:*** Available Device: _DeviceAttributes(/job:worker/replica:0/task:0/device:TPU_SYSTEM:0, TPU_SYSTEM, 0, 0)\n"
          ]
        },
        {
          "output_type": "stream",
          "name": "stdout",
          "text": [
            "INFO:tensorflow:*** Available Device: _DeviceAttributes(/job:worker/replica:0/task:0/device:XLA_CPU:0, XLA_CPU, 0, 0)\n"
          ]
        },
        {
          "output_type": "stream",
          "name": "stderr",
          "text": [
            "INFO:tensorflow:*** Available Device: _DeviceAttributes(/job:worker/replica:0/task:0/device:XLA_CPU:0, XLA_CPU, 0, 0)\n"
          ]
        },
        {
          "output_type": "stream",
          "name": "stdout",
          "text": [
            "Batch size: 2\n"
          ]
        }
      ]
    },
    {
      "cell_type": "code",
      "source": [
        "tokenized_articles[0]"
      ],
      "metadata": {
        "colab": {
          "base_uri": "https://localhost:8080/"
        },
        "id": "If7aW649wbME",
        "outputId": "5aa9472f-f615-463b-e89b-d3464ae457f4"
      },
      "execution_count": 45,
      "outputs": [
        {
          "output_type": "execute_result",
          "data": {
            "text/plain": [
              "Encoding(num_tokens=512, attributes=[ids, type_ids, tokens, offsets, attention_mask, special_tokens_mask, overflowing])"
            ]
          },
          "metadata": {},
          "execution_count": 45
        }
      ]
    },
    {
      "cell_type": "code",
      "source": [
        "# for i in range(0, 5):\n",
        "#   print(list(val_ds.as_numpy_iterator()))"
      ],
      "metadata": {
        "id": "Acp-MS1umQ7W"
      },
      "execution_count": 46,
      "outputs": []
    },
    {
      "cell_type": "code",
      "source": [
        "#Create a tensorflow dataset\n",
        "dataset = tf.data.Dataset.from_tensor_slices((dict(tokenized_articles), indices)) \n",
        "\n",
        "#train test split, we will use 10% of the data for validation\n",
        "val_data_size = int(0.1*n_elements)\n",
        "val_ds = dataset.take(val_data_size).batch(batch_size, drop_remainder=True) \n",
        "train_ds = dataset.skip(val_data_size).batch(batch_size, drop_remainder=True)\n",
        "train_ds = train_ds.prefetch(buffer_size=AUTOTUNE)"
      ],
      "metadata": {
        "id": "EcA-XshWYtzT"
      },
      "execution_count": 47,
      "outputs": []
    },
    {
      "cell_type": "code",
      "source": [
        "# Visualize tokenization results for headlines\n",
        "sample_tokens = tokenizer(headlines[0:3], padding=True, truncation=True)['input_ids']\n",
        "for i in range(3):\n",
        "  print('Input:',headlines[i])\n",
        "  print('Subword tokenization:',tokenizer.tokenize(headlines[i]))\n",
        "  print('Indices:', sample_tokens[i])"
      ],
      "metadata": {
        "colab": {
          "base_uri": "https://localhost:8080/"
        },
        "id": "2yiVjfiBYttQ",
        "outputId": "89249ce2-4182-4a0d-b554-b60a57a88b4c"
      },
      "execution_count": 48,
      "outputs": [
        {
          "output_type": "stream",
          "name": "stdout",
          "text": [
            "Input: Amoeba Infection Threatens Woman's Sight After She Used Tap Water To Store Contact Lenses\n",
            "Subword tokenization: ['Am', 'o', 'eb', 'a', 'ĠInfect', 'ion', 'ĠThreat', 'ens', 'ĠWoman', \"'s\", 'ĠSight', 'ĠAfter', 'ĠShe', 'ĠUsed', 'ĠTap', 'ĠWater', 'ĠTo', 'ĠStore', 'ĠContact', 'ĠL', 'enses']\n",
            "Indices: [0, 10127, 139, 3209, 102, 32996, 1499, 20324, 1290, 9117, 18, 31833, 572, 264, 30374, 14624, 3201, 598, 7248, 4493, 226, 21526, 2]\n",
            "Input: NFL Players Pay Tribute To Michael Brown\n",
            "Subword tokenization: ['NFL', 'ĠPlayers', 'ĠPay', 'ĠT', 'ribute', 'ĠTo', 'ĠMichael', 'ĠBrown']\n",
            "Indices: [0, 12048, 8220, 6898, 255, 25006, 598, 988, 1547, 2, 1, 1, 1, 1, 1, 1, 1, 1, 1, 1, 1, 1, 1]\n",
            "Input: Mario Lopez Wedding: Photos From The 'Extra' Host's Wedding To Courtney Mazza (PHOTOS)\n",
            "Subword tokenization: ['Mario', 'ĠLopez', 'ĠWedding', ':', 'ĠPhotos', 'ĠFrom', 'ĠThe', \"Ġ'\", 'Extra', \"'\", 'ĠHost', \"'s\", 'ĠWedding', 'ĠTo', 'ĠCourtney', 'ĠMaz', 'za', 'Ġ(', 'PHOTOS', ')']\n",
            "Indices: [0, 36369, 7322, 21238, 35, 10878, 1740, 20, 128, 44923, 108, 10664, 18, 21238, 598, 14872, 15775, 2478, 36, 42340, 43, 2, 1]\n"
          ]
        }
      ]
    },
    {
      "cell_type": "code",
      "source": [
        "# Compile the model\n",
        "with tpu_strategy.scope():\n",
        "  model = TFAutoModelForSequenceClassification.from_pretrained(\"roberta-base\", num_labels=n_categories)\n",
        "  model.compile(\n",
        "      optimizer=tf.keras.optimizers.Adam(learning_rate=1e-5, clipnorm=1.),\n",
        "      loss=tf.keras.losses.SparseCategoricalCrossentropy(from_logits=True),\n",
        "      metrics=[tf.metrics.SparseCategoricalAccuracy(),tf.keras.metrics.SparseTopKCategoricalAccuracy(k=3, name='Sparse_Top_3_Categorical_Accuracy')]\n",
        "  )"
      ],
      "metadata": {
        "colab": {
          "base_uri": "https://localhost:8080/",
          "height": 123,
          "referenced_widgets": [
            "8a3b98bdcb9c496dae4ef41586e69a14",
            "879a875f8d1442429bc3f99e7c965e46",
            "27c00bb4f696495f83a6d297279447f7",
            "9f95b76c73f14486b5018befe7f42592",
            "40bf7ab8697b4d3eba4ac8fdf4fb8214",
            "2dbd1e6a937e4e01becfebb5e2dee2e6",
            "c71407eb7dfe4442b25e480d6eba0b66",
            "3a812ce42f0b41768f1da74154b7d74f",
            "b553b6bcbe394d9baf511d617db0ea63",
            "0e168220c58c4359b3d58846776d21af",
            "ee0c20148b3d42bdb8d714365fda4fa4"
          ]
        },
        "id": "KaOA4M09pg4a",
        "outputId": "74b937d6-f1f8-4d94-e897-2a43bf7891a0"
      },
      "execution_count": 49,
      "outputs": [
        {
          "output_type": "display_data",
          "data": {
            "text/plain": [
              "Downloading:   0%|          | 0.00/627M [00:00<?, ?B/s]"
            ],
            "application/vnd.jupyter.widget-view+json": {
              "version_major": 2,
              "version_minor": 0,
              "model_id": "8a3b98bdcb9c496dae4ef41586e69a14"
            }
          },
          "metadata": {}
        },
        {
          "output_type": "stream",
          "name": "stderr",
          "text": [
            "All model checkpoint layers were used when initializing TFRobertaForSequenceClassification.\n",
            "\n",
            "Some layers of TFRobertaForSequenceClassification were not initialized from the model checkpoint at roberta-base and are newly initialized: ['classifier']\n",
            "You should probably TRAIN this model on a down-stream task to be able to use it for predictions and inference.\n"
          ]
        }
      ]
    },
    {
      "cell_type": "code",
      "source": [
        "# Train the model on our dataset, save the weights and pickle the model for importing to flask\n",
        "history = model.fit(x=train_ds, validation_data=val_ds, epochs=5, verbose=2)\n",
        "model.save_weights('./saved_weights.h5')\n",
        "pickle.dump(model, open('categories_model.pkl', 'wb'))"
      ],
      "metadata": {
        "colab": {
          "base_uri": "https://localhost:8080/"
        },
        "id": "CL9Lw0sxYti-",
        "outputId": "eb2e53e8-b178-49ae-b7ba-c80179605f00"
      },
      "execution_count": 50,
      "outputs": [
        {
          "output_type": "stream",
          "name": "stdout",
          "text": [
            "Epoch 1/5\n",
            "802/802 - 201s - loss: 1.5677 - sparse_categorical_accuracy: 0.5599 - Sparse_Top_3_Categorical_Accuracy: 0.7363 - val_loss: 1.0963 - val_sparse_categorical_accuracy: 0.6910 - val_Sparse_Top_3_Categorical_Accuracy: 0.8933 - 201s/epoch - 251ms/step\n",
            "Epoch 2/5\n",
            "802/802 - 90s - loss: 0.7431 - sparse_categorical_accuracy: 0.8030 - Sparse_Top_3_Categorical_Accuracy: 0.9339 - val_loss: 0.9997 - val_sparse_categorical_accuracy: 0.7247 - val_Sparse_Top_3_Categorical_Accuracy: 0.9213 - 90s/epoch - 112ms/step\n",
            "Epoch 3/5\n",
            "802/802 - 90s - loss: 0.4608 - sparse_categorical_accuracy: 0.8872 - Sparse_Top_3_Categorical_Accuracy: 0.9701 - val_loss: 0.9497 - val_sparse_categorical_accuracy: 0.7528 - val_Sparse_Top_3_Categorical_Accuracy: 0.9045 - 90s/epoch - 113ms/step\n",
            "Epoch 4/5\n",
            "802/802 - 90s - loss: 0.2589 - sparse_categorical_accuracy: 0.9395 - Sparse_Top_3_Categorical_Accuracy: 0.9850 - val_loss: 1.0742 - val_sparse_categorical_accuracy: 0.7528 - val_Sparse_Top_3_Categorical_Accuracy: 0.9045 - 90s/epoch - 113ms/step\n",
            "Epoch 5/5\n",
            "802/802 - 90s - loss: 0.1554 - sparse_categorical_accuracy: 0.9607 - Sparse_Top_3_Categorical_Accuracy: 0.9938 - val_loss: 1.2058 - val_sparse_categorical_accuracy: 0.7640 - val_Sparse_Top_3_Categorical_Accuracy: 0.8876 - 90s/epoch - 112ms/step\n"
          ]
        },
        {
          "output_type": "stream",
          "name": "stderr",
          "text": [
            "WARNING:absl:Found untraced functions such as encoder_layer_call_fn, encoder_layer_call_and_return_conditional_losses, embeddings_layer_call_fn, embeddings_layer_call_and_return_conditional_losses, dense_layer_call_fn while saving (showing 5 of 422). These functions will not be directly callable after loading.\n"
          ]
        },
        {
          "output_type": "stream",
          "name": "stdout",
          "text": [
            "INFO:tensorflow:Assets written to: ram://78ff0067-89d1-4c3b-aec7-f31400e5e64d/assets\n"
          ]
        },
        {
          "output_type": "stream",
          "name": "stderr",
          "text": [
            "INFO:tensorflow:Assets written to: ram://78ff0067-89d1-4c3b-aec7-f31400e5e64d/assets\n"
          ]
        }
      ]
    },
    {
      "cell_type": "code",
      "source": [
        "# Plot the accuracy for training and validation datasets\n",
        "plt.plot(history.history['sparse_categorical_accuracy'])\n",
        "plt.plot(history.history['val_sparse_categorical_accuracy'])\n",
        "plt.ylabel('accuracy')\n",
        "plt.xlabel('epoch')\n",
        "plt.legend(['train', 'test'], loc='best')\n",
        "plt.savefig('train_history.png')\n",
        "plt.show()"
      ],
      "metadata": {
        "colab": {
          "base_uri": "https://localhost:8080/",
          "height": 278
        },
        "id": "5atMZlchrKJO",
        "outputId": "8a8ddc29-ad00-456b-ef73-6f07c1f69dfb"
      },
      "execution_count": 51,
      "outputs": [
        {
          "output_type": "display_data",
          "data": {
            "text/plain": [
              "<Figure size 432x288 with 1 Axes>"
            ],
            "image/png": "[encoded data removed]"
          },
          "metadata": {
            "needs_background": "light"
          }
        }
      ]
    },
    {
      "cell_type": "code",
      "source": [
        "# Create lists of article and labels for validation dataset\n",
        "val_articles = []\n",
        "val_labels = []\n",
        "\n",
        "for i in range(val_data_size):\n",
        "    val_labels.append(labels[i])\n",
        "    val_articles.append(articles[i])\n",
        "    \n",
        "print(f'Category: {val_labels[0]}')\n",
        "print(f'Article: {val_articles[0]}') "
      ],
      "metadata": {
        "colab": {
          "base_uri": "https://localhost:8080/"
        },
        "id": "wfBuqg7vSMD6",
        "outputId": "75c701ed-f285-45c7-e536-ab60be8278be"
      },
      "execution_count": 52,
      "outputs": [
        {
          "output_type": "stream",
          "name": "stdout",
          "text": [
            "Category: HEALTH & WELLNESS\n",
            "Article: How many times have you let your basic contact lens hygiene slide, not doing things like washing your hands before handling your lenses, using tap water instead of saline solution or sleeping in your lenses? \n",
            "During a busy week at work, a woman named Erin was out of contact lens solution but didn't have time to buy any, so she used tap water to store her contact lenses. \n",
            "That would soon prove to be a mistake: She contracted a rare amoeba infection that began to attack her cornea. \n",
            "\"The pain was excruciating,\" she told Dr. Travis Stork on The Doctors. She went to the ER, where doctors thought she had a simple eye infection and prescribed her a steroid. However, after the pain still did not go away, she visited an optometrist who realized that she had an amoeba infection. \n",
            "\"The steroid was, in fact, hiding the infection,\" she said. \"It was keeping my sight but it was actually feeding the amoeba, via the steroid, making it stronger.\" \n",
            "Stork noted that steroids can actually be detrimental in cases like this, because they make it harder for the body to fight off the infection. \n",
            "To find out how Erin's vision has now been compromised because of the infection, watch the video above. And for more FAQs about contact lens hygiene and health, click here. \n",
            "\n"
          ]
        }
      ]
    },
    {
      "cell_type": "code",
      "source": [
        "# Encode labels for validation dataset\n",
        "val_labels = encode_labels(val_labels)\n",
        "\n",
        "# Tokenize articles for validation dataset\n",
        "val_tokens = tokenizer(val_articles, padding=True, truncation=True, return_tensors='tf')\n",
        "\n",
        "# Make predictions\n",
        "logits = model.predict(dict(val_tokens), verbose=2).logits\n",
        "prob = tf.nn.softmax(logits, axis=1).numpy()\n",
        "predictions = np.argmax(prob, axis=1)\n",
        "confusion_matrix = tf.math.confusion_matrix(val_labels, predictions, num_classes=n_categories)"
      ],
      "metadata": {
        "colab": {
          "base_uri": "https://localhost:8080/"
        },
        "id": "AXQqwuYWu2vK",
        "outputId": "1bf63673-5c41-48ec-bbe9-245e962172ce"
      },
      "execution_count": 53,
      "outputs": [
        {
          "output_type": "stream",
          "name": "stdout",
          "text": [
            "6/6 - 20s - 20s/epoch - 3s/step\n"
          ]
        }
      ]
    },
    {
      "cell_type": "code",
      "source": [
        "# Visualize confusion matrix\n",
        "import seaborn as sns\n",
        "plt.figure(figsize=(20,10))\n",
        "ax = sns.heatmap(confusion_matrix, \n",
        "            annot=True, \n",
        "            cmap='Blues_r', \n",
        "            xticklabels=categories, \n",
        "            yticklabels=categories\n",
        "            ) \n",
        "ax.set(xlabel='predicted', ylabel='actual')"
      ],
      "metadata": {
        "colab": {
          "base_uri": "https://localhost:8080/",
          "height": 720
        },
        "id": "GAXXuQGfUBnI",
        "outputId": "449a5b44-f5fd-47b0-b77b-0d5f89c6389e"
      },
      "execution_count": 54,
      "outputs": [
        {
          "output_type": "execute_result",
          "data": {
            "text/plain": [
              "[Text(159.0, 0.5, 'actual'), Text(0.5, 69.0, 'predicted')]"
            ]
          },
          "metadata": {},
          "execution_count": 54
        },
        {
          "output_type": "display_data",
          "data": {
            "text/plain": [
              "<Figure size 1440x720 with 2 Axes>"
            ],
            "image/png": "[encoded data removed]"
          },
          "metadata": {
            "needs_background": "light"
          }
        }
      ]
    },
    {
      "cell_type": "code",
      "source": [
        "# Determine precision, accuracy and f1 scores\n",
        "precision = metrics.precision_score(val_labels, predictions, average='weighted')\n",
        "recall = metrics.recall_score(val_labels, predictions, average='weighted')\n",
        "f1 = metrics.f1_score(val_labels, predictions, average='weighted')\n",
        "\n",
        "print(f'Precision: {precision}, \\nRecall: {recall}, \\nF1 score: {f1}.\\n')"
      ],
      "metadata": {
        "colab": {
          "base_uri": "https://localhost:8080/"
        },
        "id": "jtId_l-wUBX4",
        "outputId": "aa3a83bd-9406-4a65-8031-eaf9d0fe5077"
      },
      "execution_count": 55,
      "outputs": [
        {
          "output_type": "stream",
          "name": "stdout",
          "text": [
            "Precision: 0.7708384702064477, \n",
            "Recall: 0.7640449438202247, \n",
            "F1 score: 0.7594190379274102.\n",
            "\n"
          ]
        }
      ]
    },
    {
      "cell_type": "code",
      "source": [
        "#@title Predict the classification for a new article supplied by the user"
      ],
      "metadata": {
        "cellView": "form",
        "id": "z5_Qr1sIUBFg"
      },
      "execution_count": 56,
      "outputs": []
    },
    {
      "cell_type": "code",
      "source": [
        "# Load trained model and weights\n",
        "trained_model = TFAutoModelForSequenceClassification.from_pretrained(\"roberta-base\", num_labels=n_categories)\n",
        "trained_model.load_weights('./saved_weights.h5')"
      ],
      "metadata": {
        "colab": {
          "base_uri": "https://localhost:8080/"
        },
        "id": "QK2S1CszVMVO",
        "outputId": "d14780d6-67df-4208-e9d4-cc28efa7a47e"
      },
      "execution_count": 57,
      "outputs": [
        {
          "output_type": "stream",
          "name": "stderr",
          "text": [
            "All model checkpoint layers were used when initializing TFRobertaForSequenceClassification.\n",
            "\n",
            "Some layers of TFRobertaForSequenceClassification were not initialized from the model checkpoint at roberta-base and are newly initialized: ['classifier']\n",
            "You should probably TRAIN this model on a down-stream task to be able to use it for predictions and inference.\n"
          ]
        }
      ]
    },
    {
      "cell_type": "code",
      "source": [
        "# Test on user supplied article - this will be supplied by user on the website\n",
        "user_article = \"London (CNN)A Member of Parliament in British Prime Minister Boris Johnson's Conservative Party, Neil Parish, said Saturday he will resign after admitting twice watching pornography in the House of Commons.Parish told the BBC the first time he viewed the explicit material was an accident after searching online for farm vehicles. The second time was deliberate and a the 65-year-old said. Johnsons government is currently engulfed in numerous scandals, just days ahead of crucial local elections. The Prime Minister himself has been fined by police for breaching his own Covid rules during the 2020 lockdown, and faces an investigation into whether he misled Parliament about parties in Downing Street. And last week, his party was accused of having a serious misogyny problem, after one of his backbenchers anonymously claimed to a newspaper that Angela Rayner, deputy leader of the opposition Labour Party, distracted Johnson in the House of Commons by crossing and uncrossing her legs, similar to Sharon Stones character in the movie Basic Instinct.\""
      ],
      "metadata": {
        "id": "gv8fEkGFUAvr"
      },
      "execution_count": 58,
      "outputs": []
    },
    {
      "cell_type": "code",
      "source": [
        "# Tokenize user-supplied article\n",
        "user_tokens = tokenizer(user_article, padding=True, truncation=True, return_tensors='tf')\n",
        "\n",
        "# Make predictions for the user-supplied article\n",
        "user_logits = trained_model.predict(dict(user_tokens), verbose=2).logits\n",
        "user_prob = tf.nn.softmax(user_logits, axis=1).numpy()\n",
        "user_predictions = np.argmax(user_prob, axis=1)"
      ],
      "metadata": {
        "colab": {
          "base_uri": "https://localhost:8080/"
        },
        "id": "FQlPzSTDUwYp",
        "outputId": "42682971-c850-4c12-8b41-4060d5874983"
      },
      "execution_count": 59,
      "outputs": [
        {
          "output_type": "stream",
          "name": "stdout",
          "text": [
            "1/1 - 3s - 3s/epoch - 3s/step\n"
          ]
        }
      ]
    },
    {
      "cell_type": "code",
      "source": [
        "user_prob"
      ],
      "metadata": {
        "colab": {
          "base_uri": "https://localhost:8080/"
        },
        "id": "mJE1rlBhb6pR",
        "outputId": "6ccda5ea-583f-4d00-8049-4cf1a2957aa5"
      },
      "execution_count": 60,
      "outputs": [
        {
          "output_type": "execute_result",
          "data": {
            "text/plain": [
              "array([[7.8399410e-04, 1.0122960e-03, 9.8870741e-04, 2.2797228e-03,\n",
              "        1.5431209e-03, 1.6110250e-03, 1.0235455e-03, 2.3946080e-04,\n",
              "        9.8230296e-01, 2.1400996e-03, 8.6139853e-04, 8.2313636e-04,\n",
              "        4.3905126e-03]], dtype=float32)"
            ]
          },
          "metadata": {},
          "execution_count": 60
        }
      ]
    },
    {
      "cell_type": "code",
      "source": [
        "# Define a function to list top 3 predicted categories\n",
        "def top_predictions(array, k): \n",
        "    top_indices = np.argsort(array)[-k:]\n",
        "    top_probabilities = []\n",
        "    for i in range(k):\n",
        "        top_probabilities.append(np.around(array[top_indices[i]]*100, decimals=1))\n",
        "    return np.flip(top_indices), np.flip(top_probabilities)      "
      ],
      "metadata": {
        "id": "TgwXxzNaZl7w"
      },
      "execution_count": 61,
      "outputs": []
    },
    {
      "cell_type": "code",
      "source": [
        "# Print top 3 predictions for user-supplied article\n",
        "\n",
        "top_categories, top_probabilities = top_predictions(user_prob[0], 3)\n",
        "print(f'Prediction 1: {categories[top_categories[0]]} ({top_probabilities[0]}%); Prediction 2: {categories[top_categories[1]]} ({top_probabilities[1]}%); Prediction 3: {categories[top_categories[2]]} ({top_probabilities[1]}%)')        \n",
        "    "
      ],
      "metadata": {
        "colab": {
          "base_uri": "https://localhost:8080/"
        },
        "id": "J-8ymPNXtsMW",
        "outputId": "f622be06-a0ec-4c21-cd77-f2b34e29975f"
      },
      "execution_count": 62,
      "outputs": [
        {
          "output_type": "stream",
          "name": "stdout",
          "text": [
            "Prediction 1: POLITICS (98.2%); Prediction 2: VOICES (0.4%); Prediction 3: EDUCATION (0.4%)\n"
          ]
        }
      ]
    },
    {
      "cell_type": "code",
      "source": [
        ""
      ],
      "metadata": {
        "id": "AEtBnfEbonFn"
      },
      "execution_count": 62,
      "outputs": []
    }
  ]
}